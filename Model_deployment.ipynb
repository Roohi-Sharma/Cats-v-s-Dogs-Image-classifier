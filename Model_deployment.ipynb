{
 "cells": [
  {
   "cell_type": "code",
   "execution_count": null,
   "metadata": {
    "id": "f7VdYoiTultF"
   },
   "outputs": [],
   "source": [
    "!pip install ipykernel==4.10"
   ]
  },
  {
   "cell_type": "code",
   "execution_count": null,
   "metadata": {
    "id": "U_LFYRJ3ug5H"
   },
   "outputs": [],
   "source": [
    "!pip install -q streamlit"
   ]
  },
  {
   "cell_type": "code",
   "execution_count": null,
   "metadata": {
    "id": "CrWvMwRquoFI"
   },
   "outputs": [],
   "source": [
    "!pip install pyngrok==4.1.1"
   ]
  },
  {
   "cell_type": "code",
   "execution_count": 3,
   "metadata": {
    "colab": {
     "base_uri": "https://localhost:8080/"
    },
    "id": "E19THyXrsGor",
    "outputId": "449d8f06-d51d-40c7-99db-8f9505c91859"
   },
   "outputs": [
    {
     "name": "stdout",
     "output_type": "stream",
     "text": [
      "Writing process.py\n"
     ]
    }
   ],
   "source": [
    "%%writefile process.py\n",
    "import keras\n",
    "from PIL import Image, ImageOps\n",
    "import numpy as np\n",
    "import cv2\n",
    "\n",
    "def img_processing(img):\n",
    "    \n",
    "    # Load the model\n",
    "    model = keras.models.load_model('/content/drive/MyDrive/save_pretrained.h5')\n",
    "\n",
    "    # Create the array of the right shape to feed into the keras model\n",
    "    data = np.ndarray(shape=(1, 224, 224, 3), dtype=np.float32)\n",
    "    image = img\n",
    "    #image sizing\n",
    "    size = (224, 224)\n",
    "    image = ImageOps.fit(image,size,Image.ANTIALIAS)\n",
    "    #turn the image into a numpy array\n",
    "    image_array = np.asarray(image)\n",
    "    # Normalize the image\n",
    "    #image_array = (cv2.resize(image_array,dsize=(224,224)))/255.\n",
    "    #image_array = image_array/255.\n",
    "    data[0] = image_array\n",
    "    # run the inference\n",
    "    prediction = model.predict(data)\n",
    "    return prediction\n"
   ]
  },
  {
   "cell_type": "code",
   "execution_count": 7,
   "metadata": {
    "colab": {
     "base_uri": "https://localhost:8080/"
    },
    "id": "ol-L0572t5Sn",
    "outputId": "526b4344-68e5-4922-fc09-23f5b977e713"
   },
   "outputs": [
    {
     "name": "stdout",
     "output_type": "stream",
     "text": [
      "Overwriting app.py\n"
     ]
    }
   ],
   "source": [
    "%%writefile app.py\n",
    "import streamlit as st\n",
    "from PIL import Image\n",
    "from process import img_processing\n",
    "\n",
    "st.write(\"\"\"\n",
    "         # Classify Cats and Dogs images\n",
    "\n",
    "         \"\"\"\n",
    "    \n",
    "        )\n",
    "uploaded_file = st.file_uploader(\"Please upload an image\")\n",
    "if uploaded_file is not None:\n",
    "  image = Image.open(uploaded_file)\n",
    "  st.image(image, caption='Uploaded Image', use_column_width=True)\n",
    "  prediction=img_processing(image)\n",
    "  if prediction[0][0] == 1:\n",
    "      st.write(\"\"\"# Predicted class label: Dog\"\"\")\n",
    "  else:\n",
    "      st.write(\"\"\"# Predicted class label: Cat\"\"\")\n",
    "       "
   ]
  },
  {
   "cell_type": "code",
   "execution_count": 5,
   "metadata": {
    "id": "M-G81kT6usIx"
   },
   "outputs": [],
   "source": [
    "!streamlit run app.py &>/dev/null&"
   ]
  },
  {
   "cell_type": "code",
   "execution_count": 6,
   "metadata": {
    "colab": {
     "base_uri": "https://localhost:8080/",
     "height": 35
    },
    "id": "CMAczA_FuxkX",
    "outputId": "e1c4a8c0-2bd6-48c8-b383-bb54754fe15b"
   },
   "outputs": [
    {
     "name": "stdout",
     "output_type": "stream",
     "text": []
    },
    {
     "data": {
      "application/vnd.google.colaboratory.intrinsic+json": {
       "type": "string"
      },
      "text/plain": [
       "'http://98cfcb4fa747.ngrok.io'"
      ]
     },
     "execution_count": 6,
     "metadata": {
      "tags": []
     },
     "output_type": "execute_result"
    }
   ],
   "source": [
    "from pyngrok import ngrok\n",
    "# Setup a tunnel to the streamlit port 8501\n",
    "public_url = ngrok.connect(port='8501')\n",
    "public_url"
   ]
  },
  {
   "cell_type": "code",
   "execution_count": null,
   "metadata": {
    "colab": {
     "base_uri": "https://localhost:8080/"
    },
    "id": "cqX1j6vn6792",
    "outputId": "e54fe23d-83ec-4a0a-9af7-87bbbda39cda"
   },
   "outputs": [
    {
     "name": "stdout",
     "output_type": "stream",
     "text": [
      "Streamlit, version 0.78.0\n",
      "ngrok version 2.3.35\n",
      "pyngrok version 4.1.1\n"
     ]
    }
   ],
   "source": [
    "! streamlit --version\n",
    "! pyngrok --version"
   ]
  },
  {
   "cell_type": "code",
   "execution_count": null,
   "metadata": {
    "id": "MVelfdS97Zqe"
   },
   "outputs": [],
   "source": []
  }
 ],
 "metadata": {
  "colab": {
   "collapsed_sections": [],
   "name": "Model deployment.ipynb",
   "provenance": []
  },
  "kernelspec": {
   "display_name": "Python 3",
   "language": "python",
   "name": "python3"
  },
  "language_info": {
   "codemirror_mode": {
    "name": "ipython",
    "version": 3
   },
   "file_extension": ".py",
   "mimetype": "text/x-python",
   "name": "python",
   "nbconvert_exporter": "python",
   "pygments_lexer": "ipython3",
   "version": "3.8.5"
  }
 },
 "nbformat": 4,
 "nbformat_minor": 1
}
